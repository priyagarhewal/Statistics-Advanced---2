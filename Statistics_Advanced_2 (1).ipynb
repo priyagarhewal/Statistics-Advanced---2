{
  "nbformat": 4,
  "nbformat_minor": 0,
  "metadata": {
    "colab": {
      "provenance": []
    },
    "kernelspec": {
      "name": "python3",
      "display_name": "Python 3"
    },
    "language_info": {
      "name": "python"
    }
  },
  "cells": [
    {
      "cell_type": "markdown",
      "source": [
        "# Statistics Advanced - 2 , Assignment\n",
        "\n",
        "Assignment Code: DA-AG-007\n",
        "\n"
      ],
      "metadata": {
        "id": "Gn0-HC1W-4O0"
      }
    },
    {
      "cell_type": "markdown",
      "source": [
        "Question 1: What is hypothesis testing in statistics?\n",
        "\n",
        "Answer -\n",
        "\n",
        "Hypothesis Testing in Statistics\n",
        "\n",
        "  - Hypothesis testing is a statistical method used to make decisions or draw conclusions about a population based on sample data. It provides a systematic way to test assumptions or claims and decide whether the evidence supports them.\n",
        "\n",
        "Steps in Hypothesis Testing\n",
        "\n",
        "1. State the hypotheses\n",
        "\n",
        "    - Null Hypothesis (H₀): Assumes no effect or no difference.\n",
        "\n",
        "   - Alternative Hypothesis (H₁ or Ha): Represents what we want to prove, i.e., there is an effect or difference.\n",
        "\n",
        "2. Choose the significance level (α)\n",
        "\n",
        "   - Usually 0.05 (5%), which indicates the probability of rejecting H₀ when it is actually true.\n",
        "\n",
        "3. Select the appropriate test and calculate the test statistic\n",
        "\n",
        "   - Example: Z-test, t-test, chi-square test, etc., depending on data type and sample size.\n",
        "\n",
        "4. Find the p-value or critical value\n",
        "\n",
        "  - p-value: Probability of observing the given data if H₀ is true.\n",
        "\n",
        "5. Make a decision\n",
        "\n",
        "  - If p-value ≤ α → Reject H₀ (evidence supports H₁).\n",
        "\n",
        "  - If p-value > α → Fail to reject H₀ (not enough evidence against H₀).\n",
        "\n",
        "Example\n",
        "\n",
        "Suppose a company claims that the average life of its light bulbs is 1000 hours.\n",
        "\n",
        "  - H₀: μ = 1000 (mean life is 1000 hours)\n",
        "\n",
        "  - H₁: μ ≠ 1000 (mean life is not 1000 hours)\n",
        "  \n",
        "We collect a sample, perform the test, and based on the p-value decide whether to accept or reject the company’s claim."
      ],
      "metadata": {
        "id": "XGO2e6dt_DG4"
      }
    },
    {
      "cell_type": "markdown",
      "source": [
        "Question 2: What is the null hypothesis, and how does it differ from the alternative hypothesis?\n",
        "\n",
        "Answer -\n",
        "\n",
        "Null Hypothesis vs. Alternative Hypothesis\n",
        "\n",
        "In hypothesis testing, we usually begin with two competing statements about a population: the null hypothesis (H₀) and the alternative hypothesis (H₁ or Ha).\n",
        "\n",
        "\n",
        " 1. Null Hypothesis (H₀):\n",
        "\n",
        "   - It is the default assumption that there is no effect, no difference, or no relationship in the population.\n",
        "\n",
        "  -   It represents the status quo or baseline belief.\n",
        "\n",
        "   - Example: \"The average height of students is 170 cm.\" (H₀: μ = 170)\n",
        "\n",
        "2. Alternative Hypothesis (H₁ or Ha):\n",
        "\n",
        "   -  It is the statement we want to test or prove, suggesting there is an effect, a difference, or a relationship.\n",
        "\n",
        "   - It directly contradicts the null hypothesis.\n",
        "\n",
        "   - Example: \"The average height of students is not 170 cm.\" (H₁: μ ≠ 170)\n",
        "\n",
        "Key Differences\n",
        "\n",
        "\n",
        "| Aspect   | Null Hypothesis (H₀)                        | Alternative Hypothesis (H₁)                   |\n",
        "| -------- | ------------------------------------------- | --------------------------------------------- |\n",
        "| Meaning  | Assumes no change, no difference, no effect | Suggests change, difference, or effect exists |\n",
        "| Role     | Default or starting point in testing        | Competing claim to be proven                  |\n",
        "| Symbol   | H₀                                          | H₁ or Ha                                      |\n",
        "| Decision | Either **fail to reject** or **reject**     | Supported if H₀ is rejected                   |\n",
        "| Example  | H₀: μ = 170                                 | H₁: μ ≠ 170                                   |\n"
      ],
      "metadata": {
        "id": "unFdZUW-_3B2"
      }
    },
    {
      "cell_type": "markdown",
      "source": [
        "Question 3: Explain the significance level in hypothesis testing and its role in deciding the outcome of a test.\n",
        "\n",
        "Answer -\n",
        "\n",
        "Significance Level in Hypothesis Testing\n",
        "\n",
        "The significance level (α) in hypothesis testing is the threshold or cutoff value used to decide whether to reject the null hypothesis (H₀). It represents the probability of making a Type I error — rejecting H₀ when it is actually true.\n",
        "\n",
        "\n",
        "Key Points:\n",
        "\n",
        "1. Definition:\n",
        "\n",
        "  - The significance level is the maximum risk a researcher is willing to take of incorrectly rejecting H₀.\n",
        "\n",
        "  - Common values are 0.05 (5%), 0.01 (1%), or 0.10 (10%).\n",
        "\n",
        "2. Role in Decision Making:\n",
        "\n",
        "  - After calculating the p-value, we compare it with α:\n",
        "\n",
        "  - If p-value ≤ α → Reject H₀ (evidence supports H₁).\n",
        "\n",
        "  - If p-value > α → Fail to reject H₀ (not enough evidence against H₀).\n",
        "\n",
        "3. Interpretation:\n",
        "\n",
        "  - α = 0.05 means we are willing to accept a 5% chance of rejecting a true null hypothesis.\n",
        "\n",
        "  - Lower α (e.g., 0.01) makes the test more conservative (harder to reject H₀), while higher α increases the chance of detecting an effect but also raises the risk of error.\n",
        "\n",
        "Example:\n",
        "\n",
        "Suppose a medicine is tested to check if it lowers blood pressure.\n",
        "\n",
        "  - Significance level set at α = 0.05.\n",
        "\n",
        "  - If the p-value from the sample test = 0.03 → Since 0.03 < 0.05, we reject H₀ and conclude the medicine is effective."
      ],
      "metadata": {
        "id": "YJ4J7SiyAiSO"
      }
    },
    {
      "cell_type": "markdown",
      "source": [
        "Question 4: What are Type I and Type II errors? Give examples of each.\n",
        "\n",
        "Answer -\n",
        "\n",
        "Type I and Type II Errors in Hypothesis Testing\n",
        "\n",
        "When we make decisions in hypothesis testing, there is always a chance of making a wrong conclusion. These wrong decisions are classified as Type I error and Type II error.\n",
        "\n",
        "1. Type I Error (False Positive)\n",
        "\n",
        "  - Definition: Rejecting the null hypothesis (H₀) when it is actually true.\n",
        "\n",
        "   - Meaning: We conclude that an effect or difference exists, but in reality, it does not.\n",
        "\n",
        "  - Probability: Equal to the significance level (α).\n",
        "\n",
        "  - Example:\n",
        "A court trial assumes the defendant is innocent (H₀).\n",
        "\n",
        "   - If the jury wrongly convicts an innocent person, this is a Type I error.\n",
        "  - Another example: A medical test shows a person has a disease when they are actually healthy.\n",
        "\n",
        "2. Type II Error (False Negative)\n",
        "\n",
        "  - Definition: Failing to reject the null hypothesis (H₀) when it is actually false.\n",
        "\n",
        "   - Meaning: We conclude there is no effect or difference, but in reality, one does exist.\n",
        "\n",
        "   - Probability: Denoted by β (beta).\n",
        "\n",
        "Example:\n",
        "In the same court trial, if the jury lets a guilty person go free, this is a Type II error.\n",
        "Another example: A medical test fails to detect a disease in a patient who actually has it.\n",
        "\n",
        "Comparison Table\n",
        "\n",
        "| Error Type      | Decision Made     | Reality     | Example                       |\n",
        "| --------------- | ----------------- | ----------- | ----------------------------- |\n",
        "| **Type I (α)**  | Reject H₀         | H₀ is true  | Convicting an innocent person |\n",
        "| **Type II (β)** | Fail to reject H₀ | H₀ is false | Freeing a guilty person       |\n"
      ],
      "metadata": {
        "id": "uGx1_AnjBP9Q"
      }
    },
    {
      "cell_type": "markdown",
      "source": [
        "Question 5: What is the difference between a Z-test and a T-test? Explain when to use each.\n",
        "\n",
        "Answer -\n",
        "\n",
        "Difference Between Z-test and T-test\n",
        "\n",
        "Both Z-test and T-test are statistical tests used in hypothesis testing to compare sample data with population parameters or to compare two groups. The main difference lies in the sample size and whether the population standard deviation is known.\n",
        "\n",
        "1. Z-test\n",
        "\n",
        "  - Definition: A hypothesis test that uses the Z-distribution (standard normal distribution).\n",
        "\n",
        "  - Conditions for Use:\n",
        "\n",
        "   -- Large sample size (n > 30)\n",
        "\n",
        "  --Population standard deviation (σ) is known\n",
        "\n",
        " --Data is approximately normally distributed\n",
        "\n",
        "\n",
        "    - Examples:\n",
        "\n",
        "Testing if the average height of 1000 students equals 170 cm, when σ is known.\n",
        "\n",
        "Quality control where population variance is already established.\n",
        "\n",
        "2. T-test\n",
        "\n",
        " - Definition: A hypothesis test that uses the Student’s t-distribution.\n",
        "\n",
        " - Conditions for Use:\n",
        "\n",
        " -- Small sample size (n < 30)\n",
        "\n",
        " -- Population standard deviation (σ) is unknown (we use sample standard deviation “s” instead)\n",
        "\n",
        " -- Data should be approximately normal\n",
        "\n",
        "\n",
        " - Types of T-tests:\n",
        "\n",
        "    - One-sample t-test (compare sample mean with population mean)\n",
        "\n",
        "    - Independent two-sample t-test (compare means of two groups)\n",
        "\n",
        "  - Paired t-test (compare before-and-after data of same group)\n",
        "\n",
        "Examples:\n",
        "\n",
        "  - Comparing exam scores of 20 students against the expected average.\n",
        "\n",
        "  - Testing the effect of a training program on employee performance with a small group.\n",
        "\n",
        "Key Differences\n",
        "\n",
        "| Feature                           | **Z-test**                                             | **T-test**                                   |\n",
        "| --------------------------------- | ------------------------------------------------------ | -------------------------------------------- |\n",
        "| Distribution used                 | Z-distribution (Normal)                                | Student’s t-distribution                     |\n",
        "| Sample size                       | Large (n > 30)                                         | Small (n < 30)                               |\n",
        "| Population standard deviation (σ) | Known                                                  | Unknown (use sample standard deviation, s)   |\n",
        "| Application                       | Large datasets, quality control, population data known | Small samples, unknown population parameters |\n"
      ],
      "metadata": {
        "id": "JZYj7VMJB8jm"
      }
    },
    {
      "cell_type": "markdown",
      "source": [
        "Question 6: Write a Python program to generate a binomial distribution with n=10 and p=0.5, then plot its histogram.\n",
        "\n",
        "(Include your Python code and output in the code box below.) Hint: Generate random number using random function.\n",
        "\n",
        "Answer -\n",
        "\n",
        "here’s a Python program that generates a binomial distribution with n = 10 and p = 0.5, then plots its histogram using Matplotlib."
      ],
      "metadata": {
        "id": "iZocqDw8C9Y8"
      }
    },
    {
      "cell_type": "code",
      "execution_count": 1,
      "metadata": {
        "colab": {
          "base_uri": "https://localhost:8080/",
          "height": 472
        },
        "id": "l1l9S4P--v5C",
        "outputId": "a1ff5123-b4a9-4a57-dbd5-a0e9133b2c93"
      },
      "outputs": [
        {
          "output_type": "display_data",
          "data": {
            "text/plain": [
              "<Figure size 640x480 with 1 Axes>"
            ],
            "image/png": "[encoded data removed]"
          },
          "metadata": {}
        }
      ],
      "source": [
        "import numpy as np\n",
        "import matplotlib.pyplot as plt\n",
        "\n",
        "# Parameters for binomial distribution\n",
        "n = 10       # number of trials\n",
        "p = 0.5      # probability of success\n",
        "size = 1000  # number of random samples\n",
        "\n",
        "# Generate random numbers following a binomial distribution\n",
        "binom_data = np.random.binomial(n, p, size)\n",
        "\n",
        "# Plot histogram\n",
        "plt.hist(binom_data, bins=range(0, n+2), edgecolor='black', align='left')\n",
        "plt.title(\"Binomial Distribution (n=10, p=0.5)\")\n",
        "plt.xlabel(\"Number of Successes\")\n",
        "plt.ylabel(\"Frequency\")\n",
        "plt.show()\n"
      ]
    },
    {
      "cell_type": "markdown",
      "source": [
        "Explanation of Code:\n",
        "\n",
        "1. np.random.binomial(n, p, size) generates random numbers from a binomial distribution.\n",
        "\n",
        "n = 10 → number of trials\n",
        "\n",
        "p = 0.5 → probability of success\n",
        "\n",
        "size = 1000 → number of random experiments\n",
        "\n",
        "2. A histogram is plotted to visualize how often each number of successes (0 to 10) occurs."
      ],
      "metadata": {
        "id": "VQTUF1ddDXPx"
      }
    },
    {
      "cell_type": "markdown",
      "source": [
        "Question 7: Implement hypothesis testing using Z-statistics for a sample dataset in Python. Show the Python code and interpret the results.\n",
        "sample_data = [49.1, 50.2, 51.0, 48.7, 50.5, 49.8, 50.3, 50.7, 50.2, 49.6,\n",
        "50.1, 49.9, 50.8, 50.4, 48.9, 50.6, 50.0, 49.7, 50.2, 49.5,\n",
        "50.1, 50.3, 50.4, 50.5, 50.0, 50.7, 49.3, 49.8, 50.2, 50.9,\n",
        "50.3, 50.4, 50.0, 49.7, 50.5, 49.9]\n",
        "\n",
        "ANSWER -\n",
        "\n",
        "\n",
        "We’ll assume:\n",
        "\n",
        " - Null Hypothesis (H₀): μ = 50 (population mean is 50)\n",
        "\n",
        " - Alternative Hypothesis (H₁): μ ≠ 50 (population mean is not 50)\n",
        "\n",
        " - Significance level: α = 0.05"
      ],
      "metadata": {
        "id": "Y5iarkOqDrcy"
      }
    },
    {
      "cell_type": "code",
      "source": [
        "import numpy as np\n",
        "from scipy.stats import norm\n",
        "\n",
        "# Sample data\n",
        "sample_data = [49.1, 50.2, 51.0, 48.7, 50.5, 49.8, 50.3, 50.7, 50.2, 49.6,\n",
        "               50.1, 49.9, 50.8, 50.4, 48.9, 50.6, 50.0, 49.7, 50.2, 49.5,\n",
        "               50.1, 50.3, 50.4, 50.5, 50.0, 50.7, 49.3, 49.8, 50.2, 50.9,\n",
        "               50.3, 50.4, 50.0, 49.7, 50.5, 49.9]\n",
        "\n",
        "# Convert to numpy array\n",
        "data = np.array(sample_data)\n",
        "\n",
        "# Hypothesized population mean\n",
        "mu_0 = 50\n",
        "\n",
        "# Sample statistics\n",
        "sample_mean = np.mean(data)\n",
        "sample_std = np.std(data, ddof=1)   # sample standard deviation\n",
        "n = len(data)\n",
        "\n",
        "# Z-statistic calculation\n",
        "z_stat = (sample_mean - mu_0) / (sample_std / np.sqrt(n))\n",
        "\n",
        "# Two-tailed test: calculate p-value\n",
        "p_value = 2 * (1 - norm.cdf(abs(z_stat)))\n",
        "\n",
        "# Print results\n",
        "print(\"Sample Mean:\", round(sample_mean, 3))\n",
        "print(\"Sample Std Dev:\", round(sample_std, 3))\n",
        "print(\"Sample Size (n):\", n)\n",
        "print(\"Z-statistic:\", round(z_stat, 3))\n",
        "print(\"p-value:\", round(p_value, 4))\n",
        "\n",
        "# Decision at alpha = 0.05\n",
        "alpha = 0.05\n",
        "if p_value < alpha:\n",
        "    print(\"Reject Null Hypothesis (H0). Evidence supports H1.\")\n",
        "else:\n",
        "    print(\"Fail to Reject Null Hypothesis (H0). Not enough evidence against H0.\")\n",
        "'''\n",
        "We fail to reject H₀, meaning there is no significant difference between the sample mean and the hypothesized mean of 50 at the 5% significance level.\n",
        "'''"
      ],
      "metadata": {
        "colab": {
          "base_uri": "https://localhost:8080/"
        },
        "id": "YQ5zWsFYDSgr",
        "outputId": "4181813d-ccab-489e-c9ba-5f264b8b9d3f"
      },
      "execution_count": 2,
      "outputs": [
        {
          "output_type": "stream",
          "name": "stdout",
          "text": [
            "Sample Mean: 50.089\n",
            "Sample Std Dev: 0.537\n",
            "Sample Size (n): 36\n",
            "Z-statistic: 0.994\n",
            "p-value: 0.3202\n",
            "Fail to Reject Null Hypothesis (H0). Not enough evidence against H0.\n"
          ]
        }
      ]
    },
    {
      "cell_type": "markdown",
      "source": [
        "Question 8: Write a Python script to simulate data from a normal distribution and calculate the 95% confidence interval for its mean. Plot the data using Matplotlib.\n",
        "\n",
        "Answer -\n",
        "\n",
        "here, we’ll:\n",
        "\n",
        " - Simulate data from a normal distribution.\n",
        "\n",
        " - Calculate the 95% confidence interval (CI) for the mean.\n",
        "\n",
        " - Plot the data using Matplotlib.\n"
      ],
      "metadata": {
        "id": "KrO112iREeyf"
      }
    },
    {
      "cell_type": "code",
      "source": [
        "import numpy as np\n",
        "import matplotlib.pyplot as plt\n",
        "from scipy import stats\n",
        "\n",
        "# Step 1: Simulate data from a normal distribution\n",
        "np.random.seed(42)  # for reproducibility\n",
        "data = np.random.normal(loc=50, scale=5, size=100)\n",
        "# mean = 50, std dev = 5, sample size = 100\n",
        "\n",
        "# Step 2: Calculate 95% Confidence Interval for the mean\n",
        "sample_mean = np.mean(data)\n",
        "sample_std = np.std(data, ddof=1)\n",
        "n = len(data)\n",
        "\n",
        "# Standard error of the mean\n",
        "sem = sample_std / np.sqrt(n)\n",
        "\n",
        "# Confidence Interval\n",
        "confidence = 0.95\n",
        "ci = stats.t.interval(confidence, df=n-1, loc=sample_mean, scale=sem)\n",
        "\n",
        "# Print results\n",
        "print(\"Sample Mean:\", round(sample_mean, 3))\n",
        "print(\"95% Confidence Interval:\", (round(ci[0], 3), round(ci[1], 3)))\n",
        "\n",
        "# Step 3: Plot histogram of the data\n",
        "plt.hist(data, bins=15, edgecolor='black', alpha=0.7)\n",
        "plt.axvline(ci[0], color='red', linestyle='dashed', linewidth=2, label=f\"Lower CI = {ci[0]:.2f}\")\n",
        "plt.axvline(ci[1], color='green', linestyle='dashed', linewidth=2, label=f\"Upper CI = {ci[1]:.2f}\")\n",
        "plt.axvline(sample_mean, color='blue', linewidth=2, label=f\"Mean = {sample_mean:.2f}\")\n",
        "\n",
        "plt.title(\"Normal Distribution Data with 95% Confidence Interval\")\n",
        "plt.xlabel(\"Value\")\n",
        "plt.ylabel(\"Frequency\")\n",
        "plt.legend()\n",
        "plt.show()\n"
      ],
      "metadata": {
        "colab": {
          "base_uri": "https://localhost:8080/",
          "height": 507
        },
        "id": "TxJVI1zYEA_e",
        "outputId": "2c3622dc-4c77-4124-ca8c-1c2bb5798331"
      },
      "execution_count": 3,
      "outputs": [
        {
          "output_type": "stream",
          "name": "stdout",
          "text": [
            "Sample Mean: 49.481\n",
            "95% Confidence Interval: (np.float64(48.58), np.float64(50.382))\n"
          ]
        },
        {
          "output_type": "display_data",
          "data": {
            "text/plain": [
              "<Figure size 640x480 with 1 Axes>"
            ],
            "image/png": "[encoded data removed]"
          },
          "metadata": {}
        }
      ]
    },
    {
      "cell_type": "markdown",
      "source": [
        "Question 9: Write a Python function to calculate the Z-scores from a dataset and visualize the standardized data using a histogram. Explain what the Z-scores represent in terms of standard deviations from the mean.\n",
        "\n",
        "(Include your Python code )\n",
        "\n",
        "Answer -\n",
        "\n",
        "\n",
        "We need to:\n",
        "\n",
        "1.Write a Python function to calculate Z-scores.\n",
        "\n",
        "\n",
        "2.Plot a histogram of the standardized data (Z-scores).\n",
        "\n",
        "3.Explain what Z-scores represent.\n"
      ],
      "metadata": {
        "id": "pNJfl6_ZE9oM"
      }
    },
    {
      "cell_type": "code",
      "source": [
        "import numpy as np\n",
        "import matplotlib.pyplot as plt\n",
        "\n",
        "# Function to calculate Z-scores\n",
        "def calculate_z_scores(data):\n",
        "    mean = np.mean(data)\n",
        "    std = np.std(data, ddof=1)  # sample standard deviation\n",
        "    z_scores = [(x - mean) / std for x in data]\n",
        "    return z_scores\n",
        "\n",
        "# Example dataset\n",
        "data = [12, 15, 14, 10, 18, 20, 22, 13, 17, 19, 21, 16]\n",
        "\n",
        "# Calculate Z-scores\n",
        "z_scores = calculate_z_scores(data)\n",
        "\n",
        "# Print Z-scores\n",
        "print(\"Original Data:\", data)\n",
        "print(\"Z-scores:\", np.round(z_scores, 3))\n",
        "\n",
        "# Plot histogram of Z-scores\n",
        "plt.hist(z_scores, bins=8, edgecolor='black', alpha=0.7)\n",
        "plt.title(\"Histogram of Z-scores (Standardized Data)\")\n",
        "plt.xlabel(\"Z-score\")\n",
        "plt.ylabel(\"Frequency\")\n",
        "plt.axvline(0, color='red', linestyle='dashed', linewidth=2, label=\"Mean = 0\")\n",
        "plt.legend()\n",
        "plt.show()\n"
      ],
      "metadata": {
        "colab": {
          "base_uri": "https://localhost:8080/",
          "height": 524
        },
        "id": "NVHZ4cNmEv7r",
        "outputId": "aa03c7f3-d2bb-44e1-970d-06cfc04d601a"
      },
      "execution_count": 4,
      "outputs": [
        {
          "output_type": "stream",
          "name": "stdout",
          "text": [
            "Original Data: [12, 15, 14, 10, 18, 20, 22, 13, 17, 19, 21, 16]\n",
            "Z-scores: [-1.177 -0.377 -0.644 -1.71   0.422  0.955  1.488 -0.91   0.155  0.688\n",
            "  1.221 -0.111]\n"
          ]
        },
        {
          "output_type": "display_data",
          "data": {
            "text/plain": [
              "<Figure size 640x480 with 1 Axes>"
            ],
            "image/png": "[encoded data removed]"
          },
          "metadata": {}
        }
      ]
    },
    {
      "cell_type": "markdown",
      "source": [
        "Explanation of Z-scores\n",
        "\n",
        "A Z-score tells us how many standard deviations a data point is away from the mean.\n",
        "\n",
        "Formula:\n",
        "\n",
        "𝑍\n",
        "=\n",
        "(\n",
        "𝑥\n",
        "−\n",
        "𝜇\n",
        ")\n",
        "𝜎\n",
        "Z=\n",
        "σ\n",
        "(x−μ)\n",
        "\t​\n",
        "\n",
        "\n",
        "Interpretation:\n",
        "\n",
        "Z = 0 → Data point is exactly at the mean.\n",
        "\n",
        "Z = +1 → Data point is 1 standard deviation above the mean.\n",
        "\n",
        "Z = -2 → Data point is 2 standard deviations below the mean."
      ],
      "metadata": {
        "id": "Hq8fQDwBFY_V"
      }
    },
    {
      "cell_type": "markdown",
      "source": [],
      "metadata": {
        "id": "Okx43rKjFevC"
      }
    },
    {
      "cell_type": "code",
      "source": [],
      "metadata": {
        "id": "DYNmH7KMFQ8M"
      },
      "execution_count": null,
      "outputs": []
    }
  ]
}